{
 "cells": [
  {
   "cell_type": "markdown",
   "id": "5f5afca5",
   "metadata": {},
   "source": [
    "\n",
    "<h1 style=\"text-align: center;\"><a title=\"Data Science-AIMS-Cmr-2021-22\">Chapter 1: Dataclasses </h1>\n",
    "\n",
    "**Instructor:** \n",
    "\n",
    "* Rockefeller"
   ]
  },
  {
   "cell_type": "markdown",
   "metadata": {},
   "source": [
    "\n",
    "##  **Learning Objectives**\n",
    "\n",
    "By the end of this lesson, you will be able to:\n",
    "1. Understand the difference between traditional Python classes and dataclasses\n",
    "2. Create dataclasses to represent structured data\n",
    "3. Use type hints to make your code more readable and maintainable\n",
    "4. Work with nested dataclasses for complex data structures\n",
    "\n"
   ]
  },
  {
   "cell_type": "markdown",
   "id": "f151eb58",
   "metadata": {},
   "source": [
    "###  **1. From Python Classes to Dataclasses**\n",
    "\n",
    "### Motivation\n",
    "\n",
    "Classes are the blueprint for creating objects in Python. They allow you to group related data (called attributes) and functionality ( called methods) into a singla, organized unit. \n",
    "\n",
    "Traditional Python classes require a lot of **boilerplate code**. Every time you want to create a class that just **stores data**, you end up writing:\n",
    "\n",
    "  * An `__init__` method\n",
    "  * A `__repr__` method for nice printing\n",
    "  * Sometimes `__eq__` for comparisons\n",
    "\n",
    "That’s fine, but it gets repetitive when you have dozens of data-focused classes.\n",
    "\n",
    "**Dataclasses** in Python were introduced to **reduce this boilerplate** while keeping the clarity of classes."
   ]
  },
  {
   "cell_type": "markdown",
   "id": "c65ba3dd",
   "metadata": {},
   "source": [
    "### **2. The Difference Between Classes and Dataclasses**"
   ]
  },
  {
   "cell_type": "markdown",
   "id": "43b03e82",
   "metadata": {},
   "source": [
    "* **Normal Class**\n",
    "\n",
    "  * You write all the methods (`__init__`, `__repr__`, etc.) yourself.\n",
    "  * Flexible, but verbose.\n",
    "* **Dataclass**\n",
    "\n",
    "  * Python automatically generates `__init__`, `__repr__`, `__eq__`, etc.\n",
    "  * Best for classes whose main job is to **store structured data**.\n",
    "  * Still lets you add custom methods if needed.\n",
    "\n",
    "In short:\n",
    "**Classes**  are general-purpose tools and **Dataclasses** are specialized tools for data modeling\n"
   ]
  },
  {
   "cell_type": "markdown",
   "id": "da0c87af",
   "metadata": {},
   "source": [
    "### **3. The Importance of Dataclasses (especially for data-centric tasks)**\n",
    "\n",
    "1. **Cleaner Code** – Less boilerplate, more focus on what matters.\n",
    "2. **Readability** – The structure of data is obvious at first glance.\n",
    "3. **Maintainability** – Fewer lines of code → fewer bugs.\n",
    "4. **Extensibility** – You can still add methods like in normal classes.\n",
    "5. **Data-Centric Tasks** – Perfect for representing rows in a dataset, configurations, parameters, structured inputs/outputs.\n"
   ]
  },
  {
   "cell_type": "markdown",
   "id": "792f4553",
   "metadata": {},
   "source": [
    "### **4. Examples – Simple Dataclass Creation**"
   ]
  },
  {
   "cell_type": "code",
   "execution_count": null,
   "id": "f32d7d9d",
   "metadata": {},
   "outputs": [],
   "source": [
    "from dataclasses import dataclass\n",
    "\n",
    "@dataclass\n",
    "class Student:\n",
    "    name: str\n",
    "    age: int\n",
    "    height: float #in meters"
   ]
  },
  {
   "cell_type": "code",
   "execution_count": null,
   "id": "6b2d85ba",
   "metadata": {},
   "outputs": [],
   "source": [
    "from dataclasses import dataclass\n",
    "from typing import List , Dict , Optional, Tuple, Literal\n",
    "\n",
    "\n",
    "@dataclass\n",
    "class Student:\n",
    "    name: str\n",
    "    age: int\n",
    "    height: float #in meters\n"
   ]
  },
  {
   "cell_type": "markdown",
   "id": "1233e239",
   "metadata": {},
   "source": [
    "* No `__init__`, no `__repr__` needed.\n",
    "* Usage:"
   ]
  },
  {
   "cell_type": "code",
   "execution_count": 3,
   "id": "07bbb324",
   "metadata": {},
   "outputs": [
    {
     "name": "stdout",
     "output_type": "stream",
     "text": [
      "Student(name='Zeinab', age=24, height=1.75)\n"
     ]
    }
   ],
   "source": [
    "student_0001 = Student( name= \"Zeinab\" , age= 24 , height=1.75 )\n",
    "print(student_0001)  "
   ]
  },
  {
   "cell_type": "markdown",
   "metadata": {},
   "source": [
    "\n",
    "###  **Understanding What Just Happened**\n",
    "\n",
    "When you use the `@dataclass` decorator, Python automatically creates several special methods for you:\n",
    "\n",
    "1. **`__init__()`** - Initializes the object with the fields you defined\n",
    "   - You don't have to write `self.name = name`, etc.\n",
    "   - All fields become parameters to `__init__` automatically\n",
    "\n",
    "2. **`__repr__()`** - Provides a nice string representation when you print the object\n",
    "   - Shows the class name and all field values\n",
    "   - Very useful for debugging\n",
    "\n",
    "3. **`__eq__()`** - Allows you to compare two objects for equality\n",
    "   - Two students with the same data will be considered equal\n",
    "   - Useful for testing and deduplication\n",
    "\n",
    "**Try it yourself:** Create another student and print it. Notice how readable the output is!\n"
   ]
  },
  {
   "cell_type": "code",
   "execution_count": null,
   "id": "65fe8619",
   "metadata": {},
   "outputs": [],
   "source": [
    "# TODO ## Write your code here\n",
    "\n",
    "\n"
   ]
  },
  {
   "cell_type": "markdown",
   "id": "4c06e74f",
   "metadata": {},
   "source": []
  },
  {
   "cell_type": "code",
   "execution_count": 6,
   "id": "e2b8e2f7",
   "metadata": {},
   "outputs": [],
   "source": [
    "@dataclass\n",
    "class Book:\n",
    "    title: str\n",
    "    author: str\n",
    "    pages: int \n",
    "    year_of_release : int"
   ]
  },
  {
   "cell_type": "code",
   "execution_count": 7,
   "id": "a94725f3",
   "metadata": {},
   "outputs": [
    {
     "name": "stdout",
     "output_type": "stream",
     "text": [
      "Book(title='Balafon', author='Engelber Mveng', pages=250, year_of_release=1981)\n"
     ]
    }
   ],
   "source": [
    "book_01 = Book(title=\"Balafon\" , author=\"Engelber Mveng\",\n",
    "                pages=250 , year_of_release=1981 )\n",
    "print(book_01)"
   ]
  },
  {
   "cell_type": "markdown",
   "metadata": {},
   "source": [
    "\n",
    "### ✏️ **Practice Exercise 1: African Literature**\n",
    "\n",
    "Create dataclass instances for these famous African books:\n",
    "1. \"Things Fall Apart\" by Chinua Achebe (Nigeria), 209 pages, published 1958\n",
    "2. \"Half of a Yellow Sun\" by Chimamanda Ngozi Adichie (Nigeria), 433 pages, published 2006\n",
    "3. \"Nervous Conditions\" by Tsitsi Dangarembga (Zimbabwe), 204 pages, published 1988\n",
    "\n",
    "**Tasks:**\n",
    "- Create three Book instances with the data above\n",
    "- Store them in a list called `african_books`\n",
    "- Print all three books\n",
    "- Calculate and print the average number of pages\n",
    "- Find and print the oldest book\n",
    "\n",
    "**Hint:** Use a for loop to iterate through the list!\n"
   ]
  },
  {
   "cell_type": "code",
   "execution_count": null,
   "metadata": {},
   "outputs": [],
   "source": [
    "## TODO : Write your answer here\n",
    "\n",
    "\n",
    "\n"
   ]
  },
  {
   "cell_type": "markdown",
   "id": "739952c5",
   "metadata": {},
   "source": [
    "Lets look at another example"
   ]
  },
  {
   "cell_type": "code",
   "execution_count": 11,
   "id": "fbdd576d",
   "metadata": {},
   "outputs": [],
   "source": [
    "@dataclass\n",
    "class AIMSCourse:\n",
    "    block_category: str\n",
    "    name: str\n",
    "    lecturer: str\n",
    "    students_group: Literal[\"Regular Master\" ,\"COOP\" ]\n",
    "    area: dict[str, str]"
   ]
  },
  {
   "cell_type": "code",
   "execution_count": 12,
   "id": "71fd4c2d",
   "metadata": {},
   "outputs": [
    {
     "data": {
      "text/plain": [
       "AIMSCourse(block_category='Skill block', name='Data prep', lecturer='Mr Rockefeller', students_group='COOP', area={'1': 'data science', '2': 'Programming'})"
      ]
     },
     "execution_count": 12,
     "metadata": {},
     "output_type": "execute_result"
    }
   ],
   "source": [
    "course_001 = AIMSCourse(block_category=\"Skill block\",\n",
    "                        name='Data prep', lecturer=\"Mr Rockefeller\",\n",
    "                        students_group='COOP',\n",
    "                        area= {\"1\": \"data science\", \"2\": \"Programming\"})\n",
    "\n",
    "course_001"
   ]
  },
  {
   "cell_type": "code",
   "execution_count": 25,
   "id": "cda351bc",
   "metadata": {},
   "outputs": [
    {
     "data": {
      "text/plain": [
       "{'1': 'data science', '2': 'Programming'}"
      ]
     },
     "execution_count": 25,
     "metadata": {},
     "output_type": "execute_result"
    }
   ],
   "source": [
    "course_001.area\n"
   ]
  },
  {
   "cell_type": "markdown",
   "id": "ab263e3b",
   "metadata": {},
   "source": [
    "## Let's model students across the AIMS Network"
   ]
  },
  {
   "cell_type": "code",
   "execution_count": null,
   "id": "16ce396f",
   "metadata": {},
   "outputs": [],
   "source": [
    "@dataclass\n",
    "class AIMSStudent:\n",
    "    \"\"\"Represents a student at AIMS centers across Africa\"\"\"\n",
    "    name: str\n",
    "    country: str\n",
    "    program: str\n",
    "    center: str\n",
    "    batch: str\n",
    "\n",
    "    # def __repr__(self):\n",
    "    #     return f\"Hey, my name is {self.name}, student from {self.center}, batch {self.batch}.  I am originally from {self.country}\"\n",
    "\n",
    "\n",
    "    "
   ]
  },
  {
   "cell_type": "code",
   "execution_count": 21,
   "id": "e9420726",
   "metadata": {},
   "outputs": [
    {
     "data": {
      "text/plain": [
       "AIMSStudent(name='Tidiane Fall', country='The Gambia', program='Regular Master', center='AIMS Senegal', batch='2025')"
      ]
     },
     "execution_count": 21,
     "metadata": {},
     "output_type": "execute_result"
    }
   ],
   "source": [
    "aims_sen_001 = AIMSStudent(name=\"Tidiane Fall\", \n",
    "                           country=\"The Gambia\", \n",
    "                           program=\"Regular Master\",\n",
    "                           center= \"AIMS Senegal\",\n",
    "                           batch = \"2025\")\n",
    "\n",
    "\n",
    "\n",
    "aims_sen_001"
   ]
  },
  {
   "cell_type": "code",
   "execution_count": 23,
   "id": "8370a4f2",
   "metadata": {},
   "outputs": [
    {
     "data": {
      "text/plain": [
       "AIMSStudent(name='Ali Gassama', country='Burkina Faso', program=' COOP', center=' AIMS Rwanda', batch='2019')"
      ]
     },
     "execution_count": 23,
     "metadata": {},
     "output_type": "execute_result"
    }
   ],
   "source": [
    "aims_rw_001 =AIMSStudent(name=\"Ali Gassama\",\n",
    "                         country=\"Burkina Faso\",\n",
    "                         program=\" COOP\",\n",
    "                         center=\" AIMS Rwanda\",\n",
    "                         batch= \"2019\")\n",
    "\n",
    "aims_rw_001"
   ]
  },
  {
   "cell_type": "markdown",
   "id": "8f56117c",
   "metadata": {},
   "source": [
    "## Another example : Representing Coordinates of an object in an x,y axis"
   ]
  },
  {
   "cell_type": "code",
   "execution_count": null,
   "id": "f61ff892",
   "metadata": {},
   "outputs": [
    {
     "name": "stdout",
     "output_type": "stream",
     "text": [
      "False\n"
     ]
    }
   ],
   "source": [
    "@dataclass\n",
    "class Point:\n",
    "    x: int\n",
    "    y: int\n",
    "\n",
    "p1 = Point(x = 1 , y = 2)\n",
    "p2 = Point(x = -2 , y= 10.5)\n",
    "\n",
    "\n",
    "#print(p1 == p2)  "
   ]
  },
  {
   "cell_type": "markdown",
   "id": "181f7597",
   "metadata": {},
   "source": [
    "# Representing a rectangle and modeling its behaviour"
   ]
  },
  {
   "cell_type": "code",
   "execution_count": 35,
   "id": "901085c8",
   "metadata": {},
   "outputs": [],
   "source": [
    "@dataclass\n",
    "class Rectangle:\n",
    "    width: float\n",
    "    height: float\n",
    "\n",
    "    def area(self) -> float:\n",
    "        return self.width * self.height\n",
    "\n",
    "    def perimeter(self) -> float:\n",
    "        return 2 * (self.width + self.height)"
   ]
  },
  {
   "cell_type": "code",
   "execution_count": 36,
   "id": "afd7f96c",
   "metadata": {},
   "outputs": [
    {
     "data": {
      "text/plain": [
       "Rectangle(width=10, height=15)"
      ]
     },
     "execution_count": 36,
     "metadata": {},
     "output_type": "execute_result"
    }
   ],
   "source": [
    "fig_001 = Rectangle(width=10 , height= 15)\n",
    "fig_001"
   ]
  },
  {
   "cell_type": "code",
   "execution_count": 40,
   "id": "2ed2de22",
   "metadata": {},
   "outputs": [
    {
     "data": {
      "text/plain": [
       "(150, 50)"
      ]
     },
     "execution_count": 40,
     "metadata": {},
     "output_type": "execute_result"
    }
   ],
   "source": [
    "area = fig_001.area() \n",
    "perimeter = fig_001.perimeter()\n",
    "area, perimeter"
   ]
  },
  {
   "cell_type": "markdown",
   "metadata": {},
   "source": [
    "\n",
    "## **Understanding Type Hints in Dataclasses**\n",
    "\n",
    "Type hints are annotations that tell Python (and other developers) what type of data each field should contain.\n",
    "\n",
    "### Common Type Hints:\n",
    "\n",
    "| Type Hint | Meaning | Example Values | Use Case |\n",
    "|-----------|---------|----------------|----------|\n",
    "| `str` | Text/string | `\"Amina\"`, `\"Nigeria\"` | Names, addresses, descriptions |\n",
    "| `int` | Whole number | `24`, `2024`, `-5` | Ages, years, counts |\n",
    "| `float` | Decimal number | `1.75`, `88.5`, `3.14` | Heights, grades, prices |\n",
    "| `bool` | True/False | `True`, `False` | Flags, status indicators |\n",
    "| `List[str]` | List of strings | `[\"Python\", \"Data Science\"]` | Tags, skills, courses |\n",
    "| `Dict[str, int]` | Dictionary | `{\"age\": 24, \"year\": 2024}` | Mappings, configurations |\n",
    "| `Optional[str]` | String or None | `\"value\"` or `None` | Optional fields |\n",
    "| `Literal[\"A\", \"B\"]` | Specific values only | `\"A\"` or `\"B\"` | Restricted choices |\n",
    "\n",
    "### Why Type Hints Matter:\n",
    "\n",
    "1. **Self-Documentation** - Code explains itself\n",
    "   ```python\n",
    "   # Without type hints - unclear\n",
    "   def process(data):\n",
    "       return data * 2\n",
    "   \n",
    "   # With type hints - crystal clear\n",
    "   def process(data: int) -> int:\n",
    "       return data * 2\n",
    "   ```\n",
    "\n",
    "2. **IDE Support** - Your code editor can:\n",
    "   - Provide better autocomplete suggestions\n",
    "   - Warn you about potential type errors\n",
    "   - Show you what methods are available\n",
    "\n",
    "\n",
    "3. **Team Collaboration** - Other developers understand your code faster\n",
    "\n",
    "### ⚠️ Important Note:\n",
    "\n",
    "In regular dataclasses, type hints are **NOT enforced at runtime**. They're mainly for documentation and tooling.\n",
    "\n",
    "```python\n",
    "@dataclass\n",
    "class Student:\n",
    "    name: str\n",
    "    age: int\n",
    "\n",
    "# This will NOT raise an error (but it should!)\n",
    "student = Student(name=123, age=\"twenty\")\n",
    "```\n",
    "\n",
    "**Coming up:** In the next lesson, we'll learn about Pydantic, which DOES enforce types at runtime!\n"
   ]
  },
  {
   "cell_type": "code",
   "execution_count": null,
   "id": "0863a3f5",
   "metadata": {},
   "outputs": [],
   "source": []
  },
  {
   "cell_type": "code",
   "execution_count": null,
   "id": "431fc769",
   "metadata": {},
   "outputs": [],
   "source": []
  },
  {
   "cell_type": "code",
   "execution_count": 26,
   "id": "05e88072",
   "metadata": {},
   "outputs": [],
   "source": [
    "from typing import Optional\n",
    "\n",
    "@dataclass\n",
    "class AIMSEmployee:\n",
    "    name: str\n",
    "    department: Optional[str] "
   ]
  },
  {
   "cell_type": "code",
   "execution_count": 27,
   "id": "d611193f",
   "metadata": {},
   "outputs": [],
   "source": [
    "emp_001 =  AIMSEmployee(name=\"Mariama Diop\", department=\"Kitchen\")\n",
    "emp_002 = AIMSEmployee(name=\"Joel\", department=\"Academic\")\n",
    "emp_003 = AIMSEmployee(name=\"Timothee\", department=\"Logistics\")\n"
   ]
  },
  {
   "cell_type": "code",
   "execution_count": 28,
   "id": "26e06fde",
   "metadata": {},
   "outputs": [
    {
     "data": {
      "text/plain": [
       "{'name': 'Timothee', 'department': 'Logistics'}"
      ]
     },
     "execution_count": 28,
     "metadata": {},
     "output_type": "execute_result"
    }
   ],
   "source": [
    "emp_003.__dict__"
   ]
  },
  {
   "cell_type": "code",
   "execution_count": 30,
   "id": "d393543d",
   "metadata": {},
   "outputs": [
    {
     "data": {
      "text/plain": [
       "[{'name': 'Mariama Diop', 'department': 'Kitchen'},\n",
       " {'name': 'Joel', 'department': 'Academic'},\n",
       " {'name': 'Timothee', 'department': 'Logistics'}]"
      ]
     },
     "execution_count": 30,
     "metadata": {},
     "output_type": "execute_result"
    }
   ],
   "source": [
    "aims_employees  = []\n",
    "\n",
    "aims_employees.append(emp_001.__dict__)\n",
    "aims_employees.append(emp_002.__dict__)\n",
    "\n",
    "aims_employees.append(emp_003.__dict__)\n",
    "\n",
    "aims_employees"
   ]
  },
  {
   "cell_type": "code",
   "execution_count": null,
   "id": "2ed6538e",
   "metadata": {},
   "outputs": [
    {
     "data": {
      "application/vnd.microsoft.datawrangler.viewer.v0+json": {
       "columns": [
        {
         "name": "index",
         "rawType": "int64",
         "type": "integer"
        },
        {
         "name": "name",
         "rawType": "object",
         "type": "string"
        },
        {
         "name": "department",
         "rawType": "object",
         "type": "string"
        }
       ],
       "ref": "b89b6dc5-4aaa-4df1-999f-8cc639bf1a06",
       "rows": [
        [
         "0",
         "Mariama Diop",
         "Kitchen"
        ],
        [
         "1",
         "Joel",
         "Academic"
        ],
        [
         "2",
         "Timothee",
         "Logistics"
        ]
       ],
       "shape": {
        "columns": 2,
        "rows": 3
       }
      },
      "text/html": [
       "<div>\n",
       "<style scoped>\n",
       "    .dataframe tbody tr th:only-of-type {\n",
       "        vertical-align: middle;\n",
       "    }\n",
       "\n",
       "    .dataframe tbody tr th {\n",
       "        vertical-align: top;\n",
       "    }\n",
       "\n",
       "    .dataframe thead th {\n",
       "        text-align: right;\n",
       "    }\n",
       "</style>\n",
       "<table border=\"1\" class=\"dataframe\">\n",
       "  <thead>\n",
       "    <tr style=\"text-align: right;\">\n",
       "      <th></th>\n",
       "      <th>name</th>\n",
       "      <th>department</th>\n",
       "    </tr>\n",
       "  </thead>\n",
       "  <tbody>\n",
       "    <tr>\n",
       "      <th>0</th>\n",
       "      <td>Mariama Diop</td>\n",
       "      <td>Kitchen</td>\n",
       "    </tr>\n",
       "    <tr>\n",
       "      <th>1</th>\n",
       "      <td>Joel</td>\n",
       "      <td>Academic</td>\n",
       "    </tr>\n",
       "    <tr>\n",
       "      <th>2</th>\n",
       "      <td>Timothee</td>\n",
       "      <td>Logistics</td>\n",
       "    </tr>\n",
       "  </tbody>\n",
       "</table>\n",
       "</div>"
      ],
      "text/plain": [
       "           name department\n",
       "0  Mariama Diop    Kitchen\n",
       "1          Joel   Academic\n",
       "2      Timothee  Logistics"
      ]
     },
     "execution_count": 32,
     "metadata": {},
     "output_type": "execute_result"
    }
   ],
   "source": [
    "import json\n",
    "with open('all_aims_employees.json' , 'w') as file:\n",
    "    json.dump(aims_employees , file , indent=8)\n"
   ]
  },
  {
   "cell_type": "code",
   "execution_count": null,
   "id": "c670e39a",
   "metadata": {},
   "outputs": [],
   "source": [
    "\n",
    "import pandas as pd\n",
    "df = pd.read_json('all_aims_employees.json')\n",
    "df"
   ]
  },
  {
   "cell_type": "markdown",
   "id": "52c2ebb4",
   "metadata": {},
   "source": [
    "Now, lets look at the deparment and introducing Enums"
   ]
  },
  {
   "cell_type": "markdown",
   "id": "b56e2e70",
   "metadata": {},
   "source": [
    "Sometimes, you might want to represent a fixed set of related, unchanging constant values in a safe and readable way. Rather than using \"magic strings\" or numbers, you can use Python enums. \n",
    "\n",
    "Short for enumerations, they provide a way to create a set of symbolic names (members) bound to unique, constant values.  Enums provides a designated namespace for these constants, which improves code clarity and reduces errors."
   ]
  },
  {
   "cell_type": "code",
   "execution_count": 1,
   "id": "c39e2e5f",
   "metadata": {},
   "outputs": [],
   "source": [
    "from enum import Enum\n",
    "class AIMSDepartment(str, Enum):\n",
    "    KITCHEN = \"kitchen\"\n",
    "    ACADEMIC = \"Academic\"\n",
    "    LOGISTICS =\"Logistics\"\n"
   ]
  },
  {
   "cell_type": "code",
   "execution_count": 55,
   "id": "6b549513",
   "metadata": {},
   "outputs": [
    {
     "data": {
      "text/plain": [
       "<AIMSDepartment.ACADEMIC: 'Academic'>"
      ]
     },
     "execution_count": 55,
     "metadata": {},
     "output_type": "execute_result"
    }
   ],
   "source": [
    "AIMSDepartment.ACADEMIC"
   ]
  },
  {
   "cell_type": "code",
   "execution_count": 56,
   "id": "2e520018",
   "metadata": {},
   "outputs": [],
   "source": [
    "from typing import Optional\n",
    "\n",
    "@dataclass\n",
    "class AIMSEmployeeSystem:\n",
    "    name: str\n",
    "    department: AIMSDepartment\n",
    "\n"
   ]
  },
  {
   "cell_type": "code",
   "execution_count": 57,
   "id": "18fb0db4",
   "metadata": {},
   "outputs": [
    {
     "data": {
      "text/plain": [
       "AIMSEmployeeSystem(name='Mariama Diop', department=<AIMSDepartment.KITCHEN: 'kitchen'>)"
      ]
     },
     "execution_count": 57,
     "metadata": {},
     "output_type": "execute_result"
    }
   ],
   "source": [
    "emp_001 =  AIMSEmployeeSystem(name=\"Mariama Diop\", department=AIMSDepartment.KITCHEN)\n",
    "emp_002 = AIMSEmployeeSystem(name=\"Joel\", department=AIMSDepartment.ACADEMIC)\n",
    "emp_003 = AIMSEmployeeSystem(name=\"Timothee\", department=AIMSDepartment.LOGISTICS)\n",
    "\n",
    "emp_001"
   ]
  },
  {
   "cell_type": "code",
   "execution_count": 58,
   "id": "2d65b0d3",
   "metadata": {},
   "outputs": [
    {
     "data": {
      "text/plain": [
       "[{'name': 'Mariama Diop', 'department': <AIMSDepartment.KITCHEN: 'kitchen'>},\n",
       " {'name': 'Joel', 'department': <AIMSDepartment.ACADEMIC: 'Academic'>},\n",
       " {'name': 'Timothee', 'department': <AIMSDepartment.LOGISTICS: 'Logistics'>}]"
      ]
     },
     "execution_count": 58,
     "metadata": {},
     "output_type": "execute_result"
    }
   ],
   "source": [
    "aims_employees_002  = []\n",
    "\n",
    "aims_employees_002.append(emp_001.__dict__)\n",
    "aims_employees_002.append(emp_002.__dict__)\n",
    "\n",
    "aims_employees_002.append(emp_003.__dict__)\n",
    "\n",
    "aims_employees_002"
   ]
  },
  {
   "cell_type": "code",
   "execution_count": 59,
   "id": "d7ca855d",
   "metadata": {},
   "outputs": [
    {
     "data": {
      "text/plain": [
       "[{'name': 'Mariama Diop', 'department': <AIMSDepartment.KITCHEN: 'kitchen'>},\n",
       " {'name': 'Joel', 'department': <AIMSDepartment.ACADEMIC: 'Academic'>},\n",
       " {'name': 'Timothee', 'department': <AIMSDepartment.LOGISTICS: 'Logistics'>}]"
      ]
     },
     "execution_count": 59,
     "metadata": {},
     "output_type": "execute_result"
    }
   ],
   "source": [
    "aims_employees_002"
   ]
  },
  {
   "cell_type": "code",
   "execution_count": 60,
   "id": "b5eba8ef",
   "metadata": {},
   "outputs": [],
   "source": [
    "import json\n",
    "with open('all_aims_employees_001.json' , 'w') as file:\n",
    "    json.dump(aims_employees_002 , file , indent=8)\n",
    "\n"
   ]
  },
  {
   "cell_type": "code",
   "execution_count": null,
   "id": "99e19176",
   "metadata": {},
   "outputs": [],
   "source": [
    "from enum import Enum\n",
    "\n",
    "class StudentGroup(str, Enum):\n",
    "    REGULAR = \"Regular Program\"\n",
    "    COOP = \"Coop Program\"\n"
   ]
  },
  {
   "cell_type": "markdown",
   "id": "7956f357",
   "metadata": {},
   "source": [
    "### **5. Mixing Classes and Dataclasses**\n",
    "\n",
    "Sometimes, you’ll want the **best of both worlds**:\n",
    "\n",
    "* Use dataclasses for **data storage**\n",
    "* Use normal methods for **behavior**"
   ]
  },
  {
   "cell_type": "markdown",
   "id": "5add99e2",
   "metadata": {},
   "source": [
    "\n",
    "### Nested Dataclasses\n"
   ]
  },
  {
   "cell_type": "code",
   "execution_count": 61,
   "id": "6f9e9b32",
   "metadata": {},
   "outputs": [],
   "source": [
    "@dataclass\n",
    "class Address:\n",
    "    street: str\n",
    "    city: str\n",
    "\n",
    "@dataclass\n",
    "class Person:\n",
    "    name: str\n",
    "    age: int\n",
    "    address: Address"
   ]
  },
  {
   "cell_type": "code",
   "execution_count": 64,
   "id": "2bf0cbd9",
   "metadata": {},
   "outputs": [],
   "source": [
    "addr_001 = Address(street=\"Kwame Krumah Avenue\", \n",
    "                   city=\"Ghana\")\n",
    "\n",
    "addr_002 = Address(street=\"Cimitiere Yoff\", city=\"Dakar\")\n",
    "\n",
    "\n",
    "\n"
   ]
  },
  {
   "cell_type": "code",
   "execution_count": 65,
   "id": "aecca7c1",
   "metadata": {},
   "outputs": [
    {
     "data": {
      "text/plain": [
       "Person(name='Alice', age=26, address=Address(street='Kwame Krumah Avenue', city='Ghana'))"
      ]
     },
     "execution_count": 65,
     "metadata": {},
     "output_type": "execute_result"
    }
   ],
   "source": [
    "person_001 = Person(name=\"Alice\", \n",
    "                    age=26,\n",
    "                    address=addr_001)\n",
    "\n",
    "person_002 = Person( name=\"Mariama\", age=31, address=addr_002)\n",
    "\n",
    "person_001\n"
   ]
  },
  {
   "cell_type": "code",
   "execution_count": 66,
   "id": "3fe9553f",
   "metadata": {},
   "outputs": [
    {
     "data": {
      "text/plain": [
       "Person(name='Mariama', age=31, address=Address(street='Cimitiere Yoff', city='Dakar'))"
      ]
     },
     "execution_count": 66,
     "metadata": {},
     "output_type": "execute_result"
    }
   ],
   "source": [
    "person_002"
   ]
  },
  {
   "cell_type": "markdown",
   "id": "3df8ef5b",
   "metadata": {},
   "source": [
    "### Mixing Normal Class and Dataclass"
   ]
  }
 ],
 "metadata": {
  "kernelspec": {
   "display_name": "postkv_env",
   "language": "python",
   "name": "python3"
  },
  "language_info": {
   "codemirror_mode": {
    "name": "ipython",
    "version": 3
   },
   "file_extension": ".py",
   "mimetype": "text/x-python",
   "name": "python",
   "nbconvert_exporter": "python",
   "pygments_lexer": "ipython3",
   "version": "3.13.2"
  }
 },
 "nbformat": 4,
 "nbformat_minor": 5
}
